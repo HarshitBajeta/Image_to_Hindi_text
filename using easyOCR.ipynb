{
 "cells": [
  {
   "cell_type": "markdown",
   "id": "b03b06ba",
   "metadata": {},
   "source": [
    "!pip install easyocr"
   ]
  },
  {
   "cell_type": "code",
   "execution_count": 1,
   "id": "6aaaf8ab",
   "metadata": {},
   "outputs": [],
   "source": [
    "import cv2\n",
    "from matplotlib import pyplot as plt\n",
    "import numpy as np"
   ]
  },
  {
   "cell_type": "code",
   "execution_count": 2,
   "id": "d1334d49",
   "metadata": {},
   "outputs": [],
   "source": [
    "import os \n",
    "os.environ[\"KMP_DUPLICATE_LIB_OK\"]=\"TRUE\""
   ]
  },
  {
   "cell_type": "code",
   "execution_count": 3,
   "id": "eb360c48",
   "metadata": {},
   "outputs": [],
   "source": [
    "import easyocr"
   ]
  },
  {
   "cell_type": "code",
   "execution_count": 137,
   "id": "98b86348",
   "metadata": {},
   "outputs": [],
   "source": [
    "IMAGE_PATH = '10.png'\n",
    "#IMAGE_PATH = 'surf.jpeg'"
   ]
  },
  {
   "cell_type": "code",
   "execution_count": 138,
   "id": "9e682e98",
   "metadata": {},
   "outputs": [
    {
     "name": "stderr",
     "output_type": "stream",
     "text": [
      "CUDA not available - defaulting to CPU. Note: This module is much faster with a GPU.\n"
     ]
    },
    {
     "data": {
      "text/plain": [
       "[([[5, 9], [154, 9], [154, 38], [5, 38]], 'Tomorrow, and', 0.9016853390060158),\n",
       " ([[5, 31], [151, 31], [151, 60], [5, 60]],\n",
       "  'tomorrow, and',\n",
       "  0.7669627635781496),\n",
       " ([[4, 58], [174, 58], [174, 82], [4, 82]],\n",
       "  'tomorrow; creeps',\n",
       "  0.9525182542771132),\n",
       " ([[4, 78], [172, 78], [172, 104], [4, 104]],\n",
       "  'in this petty pace',\n",
       "  0.7353608538148269),\n",
       " ([[6, 98], [118, 98], [118, 124], [6, 124]],\n",
       "  'from day to',\n",
       "  0.9821485554710012),\n",
       " ([[5, 120], [130, 120], [130, 146], [5, 146]],\n",
       "  'until the last',\n",
       "  0.9926553902404205),\n",
       " ([[114, 98], [178, 98], [178, 150], [114, 150]],\n",
       "  'dayhi-',\n",
       "  0.2384862343579168),\n",
       " ([[4, 142], [160, 142], [160, 168], [4, 168]],\n",
       "  'able of recorded',\n",
       "  0.824646696094349),\n",
       " ([[4, 165], [170, 165], [170, 191], [4, 191]],\n",
       "  'time. And all our',\n",
       "  0.7275201482275618),\n",
       " ([[4, 188], [160, 188], [160, 214], [4, 214]],\n",
       "  'yesterdays have',\n",
       "  0.9647034454263614),\n",
       " ([[4, 207], [162, 207], [162, 236], [4, 236]],\n",
       "  'jighted fools the',\n",
       "  0.8772885196203489),\n",
       " ([[4, 234], [72, 234], [72, 258], [4, 258]], 'way to', 0.8677896321363868),\n",
       " ([[70.95805693252922, 227.18675371782888],\n",
       "   [129.90122361178794, 235.23652010216108],\n",
       "   [126.04194306747078, 259.8132462821711],\n",
       "   [67.09877638821206, 251.76347989783892]],\n",
       "  'dusty',\n",
       "  0.9999245098504329)]"
      ]
     },
     "execution_count": 138,
     "metadata": {},
     "output_type": "execute_result"
    }
   ],
   "source": [
    "reader = easyocr.Reader(['en'],gpu='True')\n",
    "result = reader.readtext(IMAGE_PATH)\n",
    "result"
   ]
  },
  {
   "cell_type": "code",
   "execution_count": 140,
   "id": "1f074fee",
   "metadata": {},
   "outputs": [
    {
     "name": "stdout",
     "output_type": "stream",
     "text": [
      "Tomorrow, and\n",
      "tomorrow, and\n",
      "tomorrow; creeps\n",
      "in this petty pace\n",
      "from day to\n",
      "until the last\n",
      "dayhi-\n",
      "able of recorded\n",
      "time. And all our\n",
      "yesterdays have\n",
      "jighted fools the\n",
      "way to\n",
      "dusty\n"
     ]
    }
   ],
   "source": [
    "s=''\n",
    "for i in range(len(result)):\n",
    "    print(result[i][1])\n",
    "    s =s+result[i][1]+' '"
   ]
  },
  {
   "cell_type": "code",
   "execution_count": 129,
   "id": "5ffae603",
   "metadata": {},
   "outputs": [],
   "source": [
    "IMAGE_PATH = '9.jpeg'"
   ]
  },
  {
   "cell_type": "code",
   "execution_count": 130,
   "id": "68684e80",
   "metadata": {},
   "outputs": [
    {
     "name": "stderr",
     "output_type": "stream",
     "text": [
      "CUDA not available - defaulting to CPU. Note: This module is much faster with a GPU.\n"
     ]
    },
    {
     "data": {
      "text/plain": [
       "[([[25, 9], [243, 9], [243, 51], [25, 51]], 'Science and', 0.9482513099194753),\n",
       " ([[239, 0], [595, 0], [595, 61], [239, 61]],\n",
       "  'Technology Essay 1',\n",
       "  0.9988629900860103),\n",
       " ([[26, 58], [247, 58], [247, 106], [26, 106]],\n",
       "  '(100 words)',\n",
       "  0.9145067948240537),\n",
       " ([[26, 151], [515, 151], [515, 190], [26, 190]],\n",
       "  'Advancement in the science and',\n",
       "  0.8465886971173797),\n",
       " ([[22, 197], [630, 197], [630, 249], [22, 249]],\n",
       "  'technology in many areas has made the',\n",
       "  0.8012696694257276),\n",
       " ([[25, 257], [601, 257], [601, 299], [25, 299]],\n",
       "  'lives of people more advance than the',\n",
       "  0.7552222533889649),\n",
       " ([[27, 308], [541, 308], [541, 348], [27, 348]],\n",
       "  'ancient time. Advancement in the',\n",
       "  0.8583526442139813),\n",
       " ([[27, 361], [207, 361], [207, 397], [27, 397]],\n",
       "  'science and',\n",
       "  0.9924923435149633),\n",
       " ([[204, 353], [602, 353], [602, 407], [204, 407]],\n",
       "  'technology is directly and',\n",
       "  0.8025416411316557),\n",
       " ([[23, 408], [622, 408], [622, 462], [23, 462]],\n",
       "  \"positively affecting the people's way of\",\n",
       "  0.8650631918242956),\n",
       " ([[121, 465], [585, 465], [585, 503], [121, 503]],\n",
       "  'on one hand however it is also',\n",
       "  0.7375862499236246),\n",
       " ([[24, 513], [594, 513], [594, 562], [24, 562]],\n",
       "  'affecting indirectly and negatively on',\n",
       "  0.9236635046643039),\n",
       " ([[25, 571], [601, 571], [601, 613], [25, 613]],\n",
       "  \"the people' s health on the other hand:\",\n",
       "  0.7107654081813538),\n",
       " ([[27, 623], [597, 623], [597, 659], [27, 659]],\n",
       "  'New inventions in the field of science',\n",
       "  0.983166146064548),\n",
       " ([[28, 678], [88, 678], [88, 710], [28, 710]], 'and', 0.9999991052683532),\n",
       " ([[88, 670], [588, 670], [588, 721], [88, 721]],\n",
       "  'technology are very necessary in',\n",
       "  0.9887709339561128),\n",
       " ([[26, 724], [638, 724], [638, 772], [26, 772]],\n",
       "  'such a modern world for a country to be',\n",
       "  0.9487868642626717),\n",
       " ([[25, 776], [630, 776], [630, 825], [25, 825]],\n",
       "  'strong and well developed country than',\n",
       "  0.9719804030632223),\n",
       " ([[26, 828], [567, 828], [567, 879], [26, 879]],\n",
       "  'other countries. In this competitive',\n",
       "  0.6461520614149334),\n",
       " ([[27, 885], [349, 885], [349, 925], [27, 925]],\n",
       "  'world, we need more',\n",
       "  0.7010995604799007),\n",
       " ([[346, 877], [608, 877], [608, 932], [346, 932]],\n",
       "  'technology to go',\n",
       "  0.9994324026983898),\n",
       " ([[27, 938], [647, 938], [647, 981], [27, 981]],\n",
       "  'ahead and become a successful person in',\n",
       "  0.7505218979201647),\n",
       " ([[28, 992], [142, 992], [142, 1024], [28, 1024]],\n",
       "  'the life_',\n",
       "  0.9504720863093296),\n",
       " ([[27.09394602135889, 460.10396789184324],\n",
       "   [124.88991671204928, 473.0680407877382],\n",
       "   [117.90605397864111, 510.89603210815676],\n",
       "   [21.11008328795071, 497.9319592122618]],\n",
       "  'living',\n",
       "  0.9999802898259341)]"
      ]
     },
     "execution_count": 130,
     "metadata": {},
     "output_type": "execute_result"
    }
   ],
   "source": [
    "reader = easyocr.Reader(['en'])\n",
    "result = reader.readtext(IMAGE_PATH)\n",
    "result"
   ]
  },
  {
   "cell_type": "code",
   "execution_count": 131,
   "id": "c3b0779d",
   "metadata": {},
   "outputs": [
    {
     "name": "stdout",
     "output_type": "stream",
     "text": [
      "Science and\n",
      "Technology Essay 1\n",
      "(100 words)\n",
      "Advancement in the science and\n",
      "technology in many areas has made the\n",
      "lives of people more advance than the\n",
      "ancient time. Advancement in the\n",
      "science and\n",
      "technology is directly and\n",
      "positively affecting the people's way of\n",
      "on one hand however it is also\n",
      "affecting indirectly and negatively on\n",
      "the people' s health on the other hand:\n",
      "New inventions in the field of science\n",
      "and\n",
      "technology are very necessary in\n",
      "such a modern world for a country to be\n",
      "strong and well developed country than\n",
      "other countries. In this competitive\n",
      "world, we need more\n",
      "technology to go\n",
      "ahead and become a successful person in\n",
      "the life_\n",
      "living\n"
     ]
    }
   ],
   "source": [
    "s=''\n",
    "for i in range(len(result)):\n",
    "    print(result[i][1])\n",
    "    s =s+result[i][1]+' '"
   ]
  },
  {
   "cell_type": "code",
   "execution_count": 132,
   "id": "11d672c5",
   "metadata": {},
   "outputs": [
    {
     "data": {
      "text/plain": [
       "\"Science and Technology Essay 1 (100 words) Advancement in the science and technology in many areas has made the lives of people more advance than the ancient time. Advancement in the science and technology is directly and positively affecting the people's way of on one hand however it is also affecting indirectly and negatively on the people' s health on the other hand: New inventions in the field of science and technology are very necessary in such a modern world for a country to be strong and well developed country than other countries. In this competitive world, we need more technology to go ahead and become a successful person in the life_ living \""
      ]
     },
     "execution_count": 132,
     "metadata": {},
     "output_type": "execute_result"
    }
   ],
   "source": [
    "s"
   ]
  },
  {
   "cell_type": "markdown",
   "id": "a0f86d03",
   "metadata": {},
   "source": [
    "# Text Conversion"
   ]
  },
  {
   "cell_type": "code",
   "execution_count": 11,
   "id": "18babd20",
   "metadata": {},
   "outputs": [],
   "source": [
    "from transformers import MBartForConditionalGeneration, MBart50TokenizerFast"
   ]
  },
  {
   "cell_type": "code",
   "execution_count": 12,
   "id": "7983d72f",
   "metadata": {},
   "outputs": [],
   "source": [
    "model = MBartForConditionalGeneration.from_pretrained(\"facebook/mbart-large-50-many-to-many-mmt\")"
   ]
  },
  {
   "cell_type": "code",
   "execution_count": 13,
   "id": "d5045263",
   "metadata": {},
   "outputs": [],
   "source": [
    "tokenizer = MBart50TokenizerFast.from_pretrained(\"facebook/mbart-large-50-one-to-many-mmt\", src_lang=\"en_XX\")"
   ]
  },
  {
   "cell_type": "code",
   "execution_count": 133,
   "id": "af27b9df",
   "metadata": {},
   "outputs": [],
   "source": [
    "model_inputs = tokenizer(s, return_tensors=\"pt\")"
   ]
  },
  {
   "cell_type": "code",
   "execution_count": 134,
   "id": "7d3d6fc0",
   "metadata": {},
   "outputs": [],
   "source": [
    "# translate from eng to hindi\n",
    "generated_tokens = model.generate(\n",
    "    **model_inputs,\n",
    "    forced_bos_token_id=tokenizer.lang_code_to_id[\"hi_IN\"]\n",
    ")"
   ]
  },
  {
   "cell_type": "code",
   "execution_count": 135,
   "id": "48446392",
   "metadata": {},
   "outputs": [],
   "source": [
    "translation = tokenizer.batch_decode(generated_tokens, skip_special_tokens=True)"
   ]
  },
  {
   "cell_type": "code",
   "execution_count": 136,
   "id": "e87d95ec",
   "metadata": {},
   "outputs": [
    {
     "data": {
      "text/plain": [
       "['विज्ञान और प्रौद्योगिकी एसेज 1 (100 शब्द) विज्ञान और प्रौद्योगिकी में अनेक क्षेत्रों में प्रगति ने लोगों के जीवन को प्राचीन काल से अधिक उन्नत कर दिया है। एक ओर विज्ञान और प्रौद्योगिकी में प्रगति प्रत्यक्ष रूप से और सकारात्मक रूप से लोगों के जीवन पर प्रभाव डालती है जबकि दूसरी ओर वह अप्रत्यक्ष रूप से और नकारात्मक रूप से लोगों के स्वास्थ्य पर भी प्रभाव डालती हैः विज्ञान और प्रौद्योगिकी के क्षेत्र में नए आविष्कार ऐसे आधुनिक विश्व में एक देश को अन्य देशों की अपेक्षा मजबूत और सुविकसित देश बनने के लिए बहुत आवश्यक हैं। इस प्रतिस्पर्द्धात्मक विश्व में हमें आगे बढ़ने और जीवन में सफल व्यक्ति बनने के लिए अधिक प्रौद्योगिकी की आवश्यकता है।']"
      ]
     },
     "execution_count": 136,
     "metadata": {},
     "output_type": "execute_result"
    }
   ],
   "source": [
    "translation"
   ]
  },
  {
   "cell_type": "code",
   "execution_count": null,
   "id": "b18f863f",
   "metadata": {},
   "outputs": [],
   "source": []
  }
 ],
 "metadata": {
  "kernelspec": {
   "display_name": "Python 3 (ipykernel)",
   "language": "python",
   "name": "python3"
  },
  "language_info": {
   "codemirror_mode": {
    "name": "ipython",
    "version": 3
   },
   "file_extension": ".py",
   "mimetype": "text/x-python",
   "name": "python",
   "nbconvert_exporter": "python",
   "pygments_lexer": "ipython3",
   "version": "3.9.12"
  }
 },
 "nbformat": 4,
 "nbformat_minor": 5
}
