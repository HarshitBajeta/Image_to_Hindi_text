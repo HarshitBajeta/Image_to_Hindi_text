{
 "cells": [
  {
   "cell_type": "code",
   "execution_count": 1,
   "id": "ff349797",
   "metadata": {},
   "outputs": [],
   "source": [
    "import pytesseract\n",
    "pytesseract.pytesseract.tesseract_cmd=r'E:\\\\tesseract\\\\tesseract.exe'"
   ]
  },
  {
   "cell_type": "code",
   "execution_count": 2,
   "id": "042c2766",
   "metadata": {},
   "outputs": [],
   "source": [
    "import cv2"
   ]
  },
  {
   "cell_type": "markdown",
   "id": "b79181eb",
   "metadata": {},
   "source": [
    "## Insert the image"
   ]
  },
  {
   "cell_type": "code",
   "execution_count": 3,
   "id": "1baae447",
   "metadata": {},
   "outputs": [],
   "source": [
    "img=cv2.imread('7.jpg')\n",
    "img1=cv2.imread('9.jpeg')\n",
    "img2=cv2.imread('5.jpg')"
   ]
  },
  {
   "cell_type": "code",
   "execution_count": 4,
   "id": "318d7f42",
   "metadata": {},
   "outputs": [
    {
     "data": {
      "text/plain": [
       "array([[[216, 233, 252],\n",
       "        [216, 233, 252],\n",
       "        [216, 233, 252],\n",
       "        ...,\n",
       "        [216, 233, 252],\n",
       "        [216, 233, 252],\n",
       "        [216, 233, 252]],\n",
       "\n",
       "       [[216, 233, 252],\n",
       "        [216, 233, 252],\n",
       "        [216, 233, 252],\n",
       "        ...,\n",
       "        [216, 233, 252],\n",
       "        [216, 233, 252],\n",
       "        [216, 233, 252]],\n",
       "\n",
       "       [[216, 233, 252],\n",
       "        [216, 233, 252],\n",
       "        [216, 233, 252],\n",
       "        ...,\n",
       "        [216, 233, 252],\n",
       "        [216, 233, 252],\n",
       "        [216, 233, 252]],\n",
       "\n",
       "       ...,\n",
       "\n",
       "       [[216, 233, 252],\n",
       "        [216, 233, 252],\n",
       "        [216, 233, 252],\n",
       "        ...,\n",
       "        [216, 233, 252],\n",
       "        [216, 233, 252],\n",
       "        [216, 233, 252]],\n",
       "\n",
       "       [[216, 233, 252],\n",
       "        [216, 233, 252],\n",
       "        [216, 233, 252],\n",
       "        ...,\n",
       "        [216, 233, 252],\n",
       "        [216, 233, 252],\n",
       "        [216, 233, 252]],\n",
       "\n",
       "       [[216, 233, 252],\n",
       "        [216, 233, 252],\n",
       "        [216, 233, 252],\n",
       "        ...,\n",
       "        [216, 233, 252],\n",
       "        [216, 233, 252],\n",
       "        [216, 233, 252]]], dtype=uint8)"
      ]
     },
     "execution_count": 4,
     "metadata": {},
     "output_type": "execute_result"
    }
   ],
   "source": [
    "img"
   ]
  },
  {
   "cell_type": "markdown",
   "id": "3d9298ac",
   "metadata": {},
   "source": [
    "Through function"
   ]
  },
  {
   "cell_type": "markdown",
   "id": "64721eb7",
   "metadata": {},
   "source": [
    "def img2text(img):\n",
    "    text=pytesseract.image_to_string(img)\n",
    "    return text"
   ]
  },
  {
   "cell_type": "markdown",
   "id": "cf1dfae8",
   "metadata": {},
   "source": [
    "list=[img,img1,img2]\n",
    "for i in list:\n",
    "    text=img2text(i)\n",
    "    print (text)"
   ]
  },
  {
   "cell_type": "markdown",
   "id": "70cda876",
   "metadata": {},
   "source": [
    "## Converted String"
   ]
  },
  {
   "cell_type": "code",
   "execution_count": 5,
   "id": "631ef9d7",
   "metadata": {},
   "outputs": [
    {
     "name": "stdout",
     "output_type": "stream",
     "text": [
      "You are the\n",
      "greatest project you\n",
      "will ever work on.\n",
      "\n"
     ]
    }
   ],
   "source": [
    "text=pytesseract.image_to_string(img)\n",
    "print(text)"
   ]
  },
  {
   "cell_type": "code",
   "execution_count": 6,
   "id": "914a50cf",
   "metadata": {},
   "outputs": [
    {
     "name": "stdout",
     "output_type": "stream",
     "text": [
      "Science and Technology Essay 1\n",
      "(100 words)\n",
      "\n",
      "Advancement in the science and\n",
      "technology in many areas has made the\n",
      "lives of people more advance than the\n",
      "ancient time. Advancement in the\n",
      "science and technology is directly and\n",
      "positively affecting the people’s way of\n",
      "living on one hand however it is also\n",
      "affecting indirectly and negatively on\n",
      "the people’s health on the other hand.\n",
      "New inventions in the field of science\n",
      "and technology are very necessary in\n",
      "such a modern world for a country to be\n",
      "strong and well developed country than\n",
      "other countries. In this competitive\n",
      "world, we need more technology to go\n",
      "ahead and become a successful person in\n",
      "the life.\n",
      "\n"
     ]
    }
   ],
   "source": [
    "text1=pytesseract.image_to_string(img1)\n",
    "print(text1)"
   ]
  },
  {
   "cell_type": "code",
   "execution_count": 7,
   "id": "1290c0d9",
   "metadata": {},
   "outputs": [
    {
     "name": "stdout",
     "output_type": "stream",
     "text": [
      "PARAGRAPH ON\n",
      "HEALTH IS WEALTH\n",
      "\n",
      "| Health is a great blessing from\n",
      "| God. We all are aware of this\n",
      "| phrase that “It is health that is\n",
      "real wealth”. Good health is\n",
      "| very important to live an\n",
      "| efficient life and a_ healthy\n",
      "person is always free of illness.\n",
      "\n",
      "HTTPS://STUDYPARAGRAPHS.CO\n",
      "\n",
      "\n"
     ]
    }
   ],
   "source": [
    "text2=pytesseract.image_to_string(img2)\n",
    "print(text2)"
   ]
  },
  {
   "cell_type": "markdown",
   "id": "29dd9d6c",
   "metadata": {},
   "source": [
    "# Text Conversion"
   ]
  },
  {
   "cell_type": "code",
   "execution_count": 8,
   "id": "cf5d1e64",
   "metadata": {},
   "outputs": [],
   "source": [
    "from transformers import MBartForConditionalGeneration, MBart50TokenizerFast"
   ]
  },
  {
   "cell_type": "code",
   "execution_count": 9,
   "id": "ce95317e",
   "metadata": {},
   "outputs": [],
   "source": [
    "model = MBartForConditionalGeneration.from_pretrained(\"facebook/mbart-large-50-many-to-many-mmt\")"
   ]
  },
  {
   "cell_type": "code",
   "execution_count": 10,
   "id": "4a9a73c3",
   "metadata": {},
   "outputs": [],
   "source": [
    "tokenizer = MBart50TokenizerFast.from_pretrained(\"facebook/mbart-large-50-one-to-many-mmt\", src_lang=\"en_XX\")"
   ]
  },
  {
   "cell_type": "code",
   "execution_count": 11,
   "id": "7b20c72c",
   "metadata": {},
   "outputs": [],
   "source": [
    "def textconv(text):\n",
    "    model_inputs = tokenizer(text, return_tensors=\"pt\")\n",
    "    # translate from eng to hindi\n",
    "    generated_tokens = model.generate( **model_inputs, forced_bos_token_id=tokenizer.lang_code_to_id[\"hi_IN\"])\n",
    "    translation = tokenizer.batch_decode(generated_tokens, skip_special_tokens=True)\n",
    "    return translation"
   ]
  },
  {
   "cell_type": "code",
   "execution_count": 12,
   "id": "b75a94ad",
   "metadata": {},
   "outputs": [
    {
     "name": "stderr",
     "output_type": "stream",
     "text": [
      "E:\\anaconda\\lib\\site-packages\\transformers\\generation_utils.py:1202: UserWarning: Neither `max_length` nor `max_new_tokens` have been set, `max_length` will default to 200 (`self.config.max_length`). Controlling `max_length` via the config is deprecated and `max_length` will be removed from the config in v5 of Transformers -- we recommend using `max_new_tokens` to control the maximum length of the generation.\n",
      "  warnings.warn(\n"
     ]
    },
    {
     "name": "stdout",
     "output_type": "stream",
     "text": [
      "['आप सबसे बड़ी परियोजना है जिस पर आप कभी काम करेंगे।']\n"
     ]
    }
   ],
   "source": [
    "print(textconv(text))"
   ]
  },
  {
   "cell_type": "code",
   "execution_count": 13,
   "id": "b96b6fcc",
   "metadata": {},
   "outputs": [
    {
     "name": "stderr",
     "output_type": "stream",
     "text": [
      "E:\\anaconda\\lib\\site-packages\\transformers\\generation_utils.py:1202: UserWarning: Neither `max_length` nor `max_new_tokens` have been set, `max_length` will default to 200 (`self.config.max_length`). Controlling `max_length` via the config is deprecated and `max_length` will be removed from the config in v5 of Transformers -- we recommend using `max_new_tokens` to control the maximum length of the generation.\n",
      "  warnings.warn(\n"
     ]
    },
    {
     "name": "stdout",
     "output_type": "stream",
     "text": [
      "['विज्ञान और प्रौद्योगिकी एसेज 1 (100 शब्द) विज्ञान और प्रौद्योगिकी में कई क्षेत्रों में प्रगति से लोगों का जीवन प्राचीन काल से अधिक आगे बढ़ गया है। एक ओर विज्ञान और प्रौद्योगिकी में प्रगति से लोगों का जीवन प्रत्यक्ष रूप से और सकारात्मक रूप से प्रभावित होता है तथा दूसरी ओर यह लोगों के स्वास्थ्य पर अप्रत्यक्ष रूप से और नकारात्मक रूप से भी प्रभाव डालता है। विज्ञान और प्रौद्योगिकी के क्षेत्र में नए आविष्कार ऐसे आधुनिक विश्व में अन्य देशों से अधिक मजबूत और सुविकसित देश बनने के लिए बहुत आवश्यक हैं। इस प्रतिस्पर्द्धात्मक विश्व में आगे बढ़ने और जीवन में सफल व्यक्ति बनने के लिए हमें अधिक प्रौद्योगिकी की आवश्यकता है।']\n"
     ]
    }
   ],
   "source": [
    "print(textconv(text1))"
   ]
  },
  {
   "cell_type": "code",
   "execution_count": 14,
   "id": "2b3ac9a1",
   "metadata": {},
   "outputs": [
    {
     "name": "stdout",
     "output_type": "stream",
     "text": [
      "['स्वास्थ्य के बारे में पैराग्राफ धन है स्वास्थ्य ईश्वर से एक महान आशीर्वाद है. हम सभी इस वाक्य को जानते हैं कि “यह स्वास्थ्य है कि वास्तविक धन है”. अच्छा स्वास्थ्य एक कुशल जीवन जीने के लिए बहुत महत्वपूर्ण है और एक स्वस्थ व्यक्ति हमेशा रोग से मुक्त है. HTTPS://STUDYPARAGRAPHS.CO']\n"
     ]
    }
   ],
   "source": [
    "print(textconv(text2))"
   ]
  },
  {
   "cell_type": "code",
   "execution_count": null,
   "id": "b6032f85",
   "metadata": {},
   "outputs": [],
   "source": []
  }
 ],
 "metadata": {
  "kernelspec": {
   "display_name": "Python 3 (ipykernel)",
   "language": "python",
   "name": "python3"
  },
  "language_info": {
   "codemirror_mode": {
    "name": "ipython",
    "version": 3
   },
   "file_extension": ".py",
   "mimetype": "text/x-python",
   "name": "python",
   "nbconvert_exporter": "python",
   "pygments_lexer": "ipython3",
   "version": "3.9.12"
  }
 },
 "nbformat": 4,
 "nbformat_minor": 5
}
